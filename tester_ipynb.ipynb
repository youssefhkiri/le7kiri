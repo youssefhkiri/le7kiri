{
  "nbformat": 4,
  "nbformat_minor": 0,
  "metadata": {
    "colab": {
      "provenance": [],
      "authorship_tag": "ABX9TyPPQZ3XPRqCalAO4uXS6VTQ",
      "include_colab_link": true
    },
    "kernelspec": {
      "name": "python3",
      "display_name": "Python 3"
    },
    "language_info": {
      "name": "python"
    }
  },
  "cells": [
    {
      "cell_type": "markdown",
      "metadata": {
        "id": "view-in-github",
        "colab_type": "text"
      },
      "source": [
        "<a href=\"https://colab.research.google.com/github/youssefhkiri/le7kiri/blob/main/tester_ipynb.ipynb\" target=\"_parent\"><img src=\"https://colab.research.google.com/assets/colab-badge.svg\" alt=\"Open In Colab\"/></a>"
      ]
    },
    {
      "cell_type": "code",
      "execution_count": 4,
      "metadata": {
        "colab": {
          "base_uri": "https://localhost:8080/"
        },
        "id": "2nCHST-vFfLO",
        "outputId": "4dd9515e-a91f-4d0e-9131-a8b8746963cd"
      },
      "outputs": [
        {
          "output_type": "stream",
          "name": "stdout",
          "text": [
            "\n",
            "okay we want to make variabel 'name' into him word mo7sen . type your script here :  name =  \"mo7sen\"\n",
            "good job\n"
          ]
        }
      ],
      "source": [
        "answare = input()\n",
        "correct_answare1 = 'name = \"mo7sen\"'\n",
        "correct_answare2 = \"name = 'mo7sen'\"\n",
        "answare = input(\"okay we want to make variabel 'name' into him word mo7sen . type your script here :  \")\n",
        "if answare == correct_answare1 or correct_answare2 :\n",
        "  print (\"good job\")\n",
        "else :\n",
        "  print (\"bad ansare\")"
      ]
    }
  ]
}